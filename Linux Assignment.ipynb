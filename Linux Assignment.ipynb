{
  "cells": [
    {
      "cell_type": "markdown",
      "id": "731b7b5f",
      "metadata": {
        "id": "731b7b5f"
      },
      "source": [
        "1. **What is Linux?**  \n",
        "- Linux is an operating system — a software layer that allows communication between computer hardware and user-level applications. It manages the system's resources, such as the CPU, memory, storage, and peripheral devices. Linux is a powerful, secure, and versatile operating system that has found applications in almost every field of technology. Its open-source nature encourages innovation and collaboration, making it a preferred choice for developers, system administrators, and organizations around the globe.\n"
      ]
    },
    {
      "cell_type": "markdown",
      "id": "154550fc",
      "metadata": {
        "id": "154550fc"
      },
      "source": [
        "\n",
        "2. **What is the difference between Hard Link & Soft Link?**  \n",
        "  - In Linux, links are used to create references to files. There are two types of links:\n",
        "    - Hard Links  \n",
        "    - Soft Links (also called Symbolic Links)\n",
        "\n",
        "  - Hard links are used when a file needs to be accessed from multiple locations without creating duplicate data, while soft links are helpful as shortcuts or pointers to files and directories. Each has its own use cases based on the requirement of file management.\n"
      ]
    },
    {
      "cell_type": "markdown",
      "id": "5d51c017",
      "metadata": {
        "id": "5d51c017"
      },
      "source": [
        "\n",
        "3. **What is Kernel in Linux?**  \n",
        "- The Linux Kernel is the central part of the Linux operating system. It is responsible for managing hardware components such as the CPU, memory, devices, and input/output systems. It provides essential services and acts as an interface between the user applications and the physical hardware.\n"
      ]
    },
    {
      "cell_type": "markdown",
      "id": "0bb61d39",
      "metadata": {
        "id": "0bb61d39"
      },
      "source": [
        "\n",
        "4. **How do you create a user account?**  \n",
        "  - In Linux, you can create a user account using the useradd command followed by the username. You must have root (administrator) privileges to do this.\n",
        "    - By using below command we can create a user:  \n",
        "      - **sudo useradd gagan**\n",
        "    - By using below command we will then create a login password for the user:  \n",
        "      - **sudo passwd gagan**\n"
      ]
    },
    {
      "cell_type": "markdown",
      "id": "9f2fc676",
      "metadata": {
        "id": "9f2fc676"
      },
      "source": [
        "5. **What is the ‘grep’ command used for in Linux?**  \n",
        "- In Linux, the grep command is a powerful and widely used text-searching utility. It is used to search for specific patterns or strings within files or output. The name grep stands for \"Global Regular Expression Print\".\n"
      ]
    },
    {
      "cell_type": "markdown",
      "id": "13360a91",
      "metadata": {
        "id": "13360a91"
      },
      "source": [
        "\n",
        "6.  Step1: Create user p1  \n",
        "Step2: He should be part of 3 groups g1,g2,g3.  \n",
        "Step3: Whenever he creates a file, automatically in the group section of the file `g1` should come.\n",
        "\n",
        "  - Create a user using this command  \n",
        "  `sudo useradd -m p1`\n",
        "  - Create groups as mentioned  \n",
        "  `sudo groupadd g1`  \n",
        "  `sudo groupadd g2`  \n",
        "  `sudo groupadd g3`\n",
        "  - Add user p1 to these groups  \n",
        "  `sudo usermod -aG g1,g2,g3 p1`\n",
        "  - Set default group for new files to g1  \n",
        "  `sudo usermod -g g1 p1`\n",
        "  \n",
        "  The `-g` option sets the primary group, which will be used for new files created by the user.\n"
      ]
    },
    {
      "cell_type": "markdown",
      "id": "2d630063",
      "metadata": {
        "id": "2d630063"
      },
      "source": [
        "\n",
        "7.  \n",
        "Step1: Create directory /tmp/bg as root user and create files inside it.  \n",
        "Step2: “abhi” should be the owner of the directory. He should be able to create files and delete files inside the directory and also he should be able to add content to all files inside the directory.\n",
        "\n",
        "  - First we'll create the directory and some files:  \n",
        "  `sudo mkdir /tmp/bg`  \n",
        "  `sudo touch /tmp/bg/file1 /tmp/bg/file2 /tmp/bg/file3`\n",
        "  - Let's create user `abhi`  \n",
        "  `sudo useradd -m abhi`\n",
        "  - Change the ownership to `abhi`  \n",
        "  `sudo chown -R abhi /tmp/bg`\n",
        "  - Set permissions so that `abhi` can:  \n",
        "      - Create and delete files  \n",
        "      - Edit any file inside `/tmp/bg`  \n",
        "    `sudo chmod -R u+rwX /tmp/bg`\n"
      ]
    },
    {
      "cell_type": "markdown",
      "id": "395a5b38",
      "metadata": {
        "id": "395a5b38"
      },
      "source": [
        "\n",
        "8. **You suspect that a particular process is consuming excessive CPU resources on your Linux server. How would you identify and terminate this process?**  \n",
        "To handle this situation, we follow the below steps:\n",
        "\n",
        "  - Use `top` command to monitor CPU usage:\n",
        "\n",
        "```\n",
        "top - 17:42:12 up 12 days,  3:16,  2 users,  load average: 1.67, 1.45, 1.22\n",
        "Tasks: 199 total,   1 running, 198 sleeping,   0 stopped,   0 zombie\n",
        "%Cpu(s): 53.3 us,  3.2 sy,  0.0 ni, 43.0 id,  0.1 wa,  0.0 hi,  0.4 si,  0.0 st\n",
        "MiB Mem :   7936.2 total,   1123.4 free,   4621.0 used,   2191.8 buff/cache\n",
        "MiB Swap:   2048.0 total,   1765.6 free,    282.4 used.   2789.2 avail Mem\n",
        "\n",
        "  PID USER      PR  NI    VIRT    RES    SHR S  %CPU  %MEM     TIME+ COMMAND\n",
        "12345 apache    20   0  805648 123456  18920 S  98.6   1.5  23:41.87 httpd\n",
        "27890 mysql     20   0 1732480 512000  12288 S   7.2   6.4   2:54.12 mysqld\n",
        "13567 root      20   0  256744  18200   9500 S   2.3   0.2   0:03.65 sshd\n",
        "30123 abhi      20   0  105832   6584   5180 S   1.0   0.1   0:00.87 bash\n",
        "15876 root      20   0   65000   2400   1800 S   0.7   0.0   0:00.35 cron\n",
        "18976 syslog    20   0   93400   3100   2700 S   0.5   0.0   0:00.28 rsyslogd\n",
        "21500 daemon    20   0   41200   1500   1200 S   0.3   0.0   0:00.11 atd\n",
        "16890 root      20   0  181236   7900   6400 S   0.1   0.1   0:00.42 systemd\n",
        "```\n",
        "\n",
        "  - Look for the process with the highest `%CPU` and note its `PID`.\n",
        "  - Terminate the process using its PID:  \n",
        "    `sudo kill 12345`  \n",
        "\n",
        "  This will stop the `apache` process that was using too much CPU.\n"
      ]
    }
  ],
  "metadata": {
    "colab": {
      "provenance": []
    }
  },
  "nbformat": 4,
  "nbformat_minor": 5
}